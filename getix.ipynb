{
 "cells": [
  {
   "cell_type": "markdown",
   "metadata": {},
   "source": [
    "# Get data from websites\n",
    "https://davidtauriello.github.io/cafr/ixviewer/../samples/3/Alexandria-2018-Statements.htm\n",
    " \n",
    "https://davidtauriello.github.io/cafr/ixviewer/ix?doc=../samples/4/FallsChurch-2018-Statements.htm\n",
    " \n",
    "https://davidtauriello.github.io/cafr/ixviewer/ix?doc=../samples/5/Loudoun-2018-Statements.htm"
   ]
  },
  {
   "cell_type": "markdown",
   "metadata": {},
   "source": [
    "## Files to parse\n",
    "(Later we can do URLs also)"
   ]
  },
  {
   "cell_type": "code",
   "execution_count": 95,
   "metadata": {},
   "outputs": [],
   "source": [
    "file_paths = ['Alexandria-2018-Statements.htm', 'FallsChurch-2018-Statements.htm', 'Loudoun-2018-Statements.htm']"
   ]
  },
  {
   "cell_type": "markdown",
   "metadata": {},
   "source": [
    "## Libraries\n",
    "**BeautifulSoup**: https://www.crummy.com/software/BeautifulSoup/bs4/doc/"
   ]
  },
  {
   "cell_type": "code",
   "execution_count": 1,
   "metadata": {},
   "outputs": [],
   "source": [
    "#from bs4 import BeautifulSoup\n",
    "import re\n",
    "import pandas as pd\n",
    "#soup = BeautifulSoup(ixbrl, 'html.parser')"
   ]
  },
  {
   "cell_type": "code",
   "execution_count": 8,
   "metadata": {},
   "outputs": [],
   "source": [
    "# This is my little function for inspecting objects.\n",
    "from mydir import mydir"
   ]
  },
  {
   "cell_type": "code",
   "execution_count": 59,
   "metadata": {},
   "outputs": [
    {
     "data": {
      "text/plain": [
       "[]"
      ]
     },
     "execution_count": 59,
     "metadata": {},
     "output_type": "execute_result"
    }
   ],
   "source": [
    "# This is a quick hack replacement for BeautifulSoup, to work around whatever problem we're having there.\n",
    "def tags_from_html(name, html):\n",
    "    tags = []\n",
    "    results = re.findall(f'(<\\s*{name}.*?>(.*?)<\\s*/\\s*{name}>)', html, flags = re.DOTALL | re.MULTILINE)\n",
    "    \n",
    "    for element, content in results:\n",
    "        tag = {'name': name}\n",
    "        tag['content'] = content\n",
    "        \n",
    "        atts = {}\n",
    "        att_results = re.findall(f'(\\S+)=[\"\\']?((?:.(?![\"\\']?\\s+(?:\\S+)=|[>\"\\']))+.)[\"\\']?', element)\n",
    "        for att, value in att_results:\n",
    "            atts[att.lower()] = value   # Lower-casing attribute name to avoid case errors in the HTML.\n",
    "        tag['attributes'] = atts\n",
    "        tags.append(tag)\n",
    "    return tags\n",
    "        \n",
    "#tags_from_html('xbrldi:explicitMember', test_html)\n",
    "#tags_from_html('xb', test_html)"
   ]
  },
  {
   "cell_type": "markdown",
   "metadata": {},
   "source": [
    "## Context definitions\n",
    "Need to get a description for each context. A context element looks like this:\n",
    "\n",
    "       <xbrli:context id=\"_ctx9\">\n",
    "          <xbrli:entity><xbrli:identifier scheme=\"http://www.govwiki.info\">47210100100000</xbrli:identifier></xbrli:entity>\n",
    "          <xbrli:period><xbrli:instant>2018-06-30</xbrli:instant></xbrli:period>\n",
    "          <xbrli:scenario>\n",
    "             <xbrldi:explicitMember dimension=\"cafr:FinancialReportingEntityAxis\">cafr:PrimaryGovernmentActivitiesMember</xbrldi:explicitMember>\n",
    "             <xbrldi:explicitMember dimension=\"cafr:BasisOfAccountingAxis\">cafr:ModifiedAccrualBasisOfAccountingMember</xbrldi:explicitMember>\n",
    "             <xbrldi:explicitMember dimension=\"cafr:ActivityTypeAxis\">cafr:GovernmentalTypeActivityMember</xbrldi:explicitMember>\n",
    "             <xbrldi:explicitMember dimension=\"cafr:ClassificationOfFundTypeAxis\">cafr:GeneralFundMember</xbrldi:explicitMember>\n",
    "             <xbrldi:explicitMember dimension=\"cafr:MagnitudeAxis\">cafr:MajorMember</xbrldi:explicitMember>\n",
    "          </xbrli:scenario>\n",
    "       </xbrli:context>\n"
   ]
  },
  {
   "cell_type": "markdown",
   "metadata": {},
   "source": [
    "## Actual data\n",
    "Data looks like this:\n",
    "\n",
    "        <td id=\"_NETPOSITION_B10\" style=\"text-align:right;width:114px;\">$&#160;&#160;&#160;&#160;&#160;&#160;&#160;<ix:nonFraction name=\"cafr:CashAndCashEquivalents\" contextRef=\"_ctx3\" id=\"NETPOSITION_B10\" unitRef=\"ISO4217_USD\" decimals = \"0\" format=\"ixt:numdotdecimal\">336,089,928</ix:nonFraction>&#160;</td>"
   ]
  },
  {
   "cell_type": "code",
   "execution_count": 73,
   "metadata": {},
   "outputs": [],
   "source": [
    "class XbrliDocument:\n",
    "    def __init__(self, path = None, url = None):\n",
    "        # TODO: Add url support.\n",
    "        if path:\n",
    "            with open(path,'r') as source:\n",
    "                html = source.read()\n",
    "        \n",
    "        self.contexts = self._contexts_from_html(html)\n",
    "        self.ix_fields = self._ix_fields_from_html(html)\n",
    "    \n",
    "    def _contexts_from_html(self, html):\n",
    "        contexts = {}   # id: text description\n",
    "        for tag in tags_from_html('xbrli:context', html):\n",
    "            text = ''\n",
    "            #content = tag['content']\n",
    "            members = []\n",
    "            for member in tags_from_html('xbrldi:explicitMember', tag['content']):\n",
    "                try:\n",
    "                    members.append(member['content'][5:])\n",
    "                except:\n",
    "                    pass\n",
    "            text += ' '.join(members)    \n",
    "            contexts[tag['attributes']['id']] = text \n",
    "        return contexts\n",
    "    \n",
    "    def _ix_fields_from_html(self, html):\n",
    "        ix_fields = {}   # name (context description): [text]\n",
    "        for ix_name in ('ix:nonNumeric', 'ix:nonFraction'):\n",
    "            for tag in tags_from_html(ix_name, html):\n",
    "                try:\n",
    "                    context = tag['attributes']['contextref']\n",
    "                    description = self.contexts[context]\n",
    "\n",
    "                    # If there is description text, put it in parenthesis (if empty string, no parenthesis).\n",
    "                    if description: description = f' ({description})'\n",
    "\n",
    "                    name = tag['attributes']['name'][5:]\n",
    "                    text = tag['content']\n",
    "\n",
    "                    ix_fields[f'{name}{description}'] = text \n",
    "                except Exception as e:\n",
    "                    print(f\"*** Exception: {e}\")\n",
    "        return ix_fields"
   ]
  },
  {
   "cell_type": "code",
   "execution_count": 111,
   "metadata": {},
   "outputs": [
    {
     "name": "stdout",
     "output_type": "stream",
     "text": [
      "Processed data for 3 entities, with a total of 62 fields. See output.csv\n"
     ]
    }
   ],
   "source": [
    "data = {}\n",
    "docs = [XbrliDocument(path) for path in file_paths]\n",
    "\n",
    "# Because docs can have missing fields, and for the spreadsheet all docs must have entries for all fields,\n",
    "# first need to figure out what all the fields from all the docs are, before processing the data.\n",
    "for doc in docs:\n",
    "    for key in doc.ix_fields:\n",
    "        data.setdefault(key, [])\n",
    "\n",
    "# Now can process the docs.\n",
    "for doc in docs:\n",
    "    for key, value in doc.ix_fields.items():\n",
    "        data_list = data.setdefault(key, [])\n",
    "        data_list.append(value)\n",
    "\n",
    "    # And finally add blank entries for any missing fields.\n",
    "    for key, value in data.items():\n",
    "        if key not in doc.ix_fields:\n",
    "            value.append('')\n",
    "\n",
    "# Use Pandas to turn data dictionary into csv.\n",
    "df = pd.DataFrame(data)\n",
    "df.to_csv('output.csv', index=False)\n",
    "\n",
    "print(f\"Processed data for {len(file_paths)} entities, with a total of {len(data)} fields. See output.csv\")"
   ]
  }
 ],
 "metadata": {
  "kernelspec": {
   "display_name": "Python 3",
   "language": "python",
   "name": "python3"
  },
  "language_info": {
   "codemirror_mode": {
    "name": "ipython",
    "version": 3
   },
   "file_extension": ".py",
   "mimetype": "text/x-python",
   "name": "python",
   "nbconvert_exporter": "python",
   "pygments_lexer": "ipython3",
   "version": "3.7.0"
  }
 },
 "nbformat": 4,
 "nbformat_minor": 2
}
